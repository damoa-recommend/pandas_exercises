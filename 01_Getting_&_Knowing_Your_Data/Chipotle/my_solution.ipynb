{
  "nbformat": 4,
  "nbformat_minor": 0,
  "metadata": {
    "anaconda-cloud": {},
    "kernelspec": {
      "display_name": "Python [default]",
      "language": "python",
      "name": "python2"
    },
    "language_info": {
      "codemirror_mode": {
        "name": "ipython",
        "version": 2
      },
      "file_extension": ".py",
      "mimetype": "text/x-python",
      "name": "python",
      "nbconvert_exporter": "python",
      "pygments_lexer": "ipython2",
      "version": "2.7.12"
    },
    "colab": {
      "name": "Exercises.ipynb",
      "provenance": []
    }
  },
  "cells": [
    {
      "cell_type": "markdown",
      "metadata": {
        "id": "uutrU-8yfqSh",
        "colab_type": "text"
      },
      "source": [
        "# Ex2 - Getting and Knowing your Data"
      ]
    },
    {
      "cell_type": "markdown",
      "metadata": {
        "id": "yfj-q766fqSk",
        "colab_type": "text"
      },
      "source": [
        "This time we are going to pull data directly from the internet.\n",
        "Special thanks to: https://github.com/justmarkham for sharing the dataset and materials.\n",
        "\n",
        "### Step 1. Import the necessary libraries"
      ]
    },
    {
      "cell_type": "code",
      "metadata": {
        "id": "cTwkIjdFfqSn",
        "colab_type": "code",
        "colab": {}
      },
      "source": [
        "import pandas as pd"
      ],
      "execution_count": 0,
      "outputs": []
    },
    {
      "cell_type": "markdown",
      "metadata": {
        "id": "tiZqXA_VfqSs",
        "colab_type": "text"
      },
      "source": [
        "### Step 2. Import the dataset from this [address](https://raw.githubusercontent.com/justmarkham/DAT8/master/data/chipotle.tsv). "
      ]
    },
    {
      "cell_type": "markdown",
      "metadata": {
        "id": "G9ofRs0AfqSt",
        "colab_type": "text"
      },
      "source": [
        "### Step 3. Assign it to a variable called chipo."
      ]
    },
    {
      "cell_type": "code",
      "metadata": {
        "id": "CsbjMq2hfqSu",
        "colab_type": "code",
        "colab": {}
      },
      "source": [
        "chipo = pd.read_csv(\"https://raw.githubusercontent.com/justmarkham/DAT8/master/data/chipotle.tsv\", sep='\\t')"
      ],
      "execution_count": 0,
      "outputs": []
    },
    {
      "cell_type": "markdown",
      "metadata": {
        "id": "eCXag0XOfqSy",
        "colab_type": "text"
      },
      "source": [
        "### Step 4. See the first 10 entries"
      ]
    },
    {
      "cell_type": "code",
      "metadata": {
        "scrolled": false,
        "id": "77ozSP_yfqSz",
        "colab_type": "code",
        "colab": {
          "base_uri": "https://localhost:8080/",
          "height": 348
        },
        "outputId": "99f1c7f4-6597-4ac5-dcf6-001e42ca7985"
      },
      "source": [
        "chipo.head(10)"
      ],
      "execution_count": 46,
      "outputs": [
        {
          "output_type": "execute_result",
          "data": {
            "text/html": [
              "<div>\n",
              "<style scoped>\n",
              "    .dataframe tbody tr th:only-of-type {\n",
              "        vertical-align: middle;\n",
              "    }\n",
              "\n",
              "    .dataframe tbody tr th {\n",
              "        vertical-align: top;\n",
              "    }\n",
              "\n",
              "    .dataframe thead th {\n",
              "        text-align: right;\n",
              "    }\n",
              "</style>\n",
              "<table border=\"1\" class=\"dataframe\">\n",
              "  <thead>\n",
              "    <tr style=\"text-align: right;\">\n",
              "      <th></th>\n",
              "      <th>order_id</th>\n",
              "      <th>quantity</th>\n",
              "      <th>item_name</th>\n",
              "      <th>choice_description</th>\n",
              "      <th>item_price</th>\n",
              "    </tr>\n",
              "  </thead>\n",
              "  <tbody>\n",
              "    <tr>\n",
              "      <th>0</th>\n",
              "      <td>1</td>\n",
              "      <td>1</td>\n",
              "      <td>Chips and Fresh Tomato Salsa</td>\n",
              "      <td>NaN</td>\n",
              "      <td>$2.39</td>\n",
              "    </tr>\n",
              "    <tr>\n",
              "      <th>1</th>\n",
              "      <td>1</td>\n",
              "      <td>1</td>\n",
              "      <td>Izze</td>\n",
              "      <td>[Clementine]</td>\n",
              "      <td>$3.39</td>\n",
              "    </tr>\n",
              "    <tr>\n",
              "      <th>2</th>\n",
              "      <td>1</td>\n",
              "      <td>1</td>\n",
              "      <td>Nantucket Nectar</td>\n",
              "      <td>[Apple]</td>\n",
              "      <td>$3.39</td>\n",
              "    </tr>\n",
              "    <tr>\n",
              "      <th>3</th>\n",
              "      <td>1</td>\n",
              "      <td>1</td>\n",
              "      <td>Chips and Tomatillo-Green Chili Salsa</td>\n",
              "      <td>NaN</td>\n",
              "      <td>$2.39</td>\n",
              "    </tr>\n",
              "    <tr>\n",
              "      <th>4</th>\n",
              "      <td>2</td>\n",
              "      <td>2</td>\n",
              "      <td>Chicken Bowl</td>\n",
              "      <td>[Tomatillo-Red Chili Salsa (Hot), [Black Beans...</td>\n",
              "      <td>$16.98</td>\n",
              "    </tr>\n",
              "    <tr>\n",
              "      <th>5</th>\n",
              "      <td>3</td>\n",
              "      <td>1</td>\n",
              "      <td>Chicken Bowl</td>\n",
              "      <td>[Fresh Tomato Salsa (Mild), [Rice, Cheese, Sou...</td>\n",
              "      <td>$10.98</td>\n",
              "    </tr>\n",
              "    <tr>\n",
              "      <th>6</th>\n",
              "      <td>3</td>\n",
              "      <td>1</td>\n",
              "      <td>Side of Chips</td>\n",
              "      <td>NaN</td>\n",
              "      <td>$1.69</td>\n",
              "    </tr>\n",
              "    <tr>\n",
              "      <th>7</th>\n",
              "      <td>4</td>\n",
              "      <td>1</td>\n",
              "      <td>Steak Burrito</td>\n",
              "      <td>[Tomatillo Red Chili Salsa, [Fajita Vegetables...</td>\n",
              "      <td>$11.75</td>\n",
              "    </tr>\n",
              "    <tr>\n",
              "      <th>8</th>\n",
              "      <td>4</td>\n",
              "      <td>1</td>\n",
              "      <td>Steak Soft Tacos</td>\n",
              "      <td>[Tomatillo Green Chili Salsa, [Pinto Beans, Ch...</td>\n",
              "      <td>$9.25</td>\n",
              "    </tr>\n",
              "    <tr>\n",
              "      <th>9</th>\n",
              "      <td>5</td>\n",
              "      <td>1</td>\n",
              "      <td>Steak Burrito</td>\n",
              "      <td>[Fresh Tomato Salsa, [Rice, Black Beans, Pinto...</td>\n",
              "      <td>$9.25</td>\n",
              "    </tr>\n",
              "  </tbody>\n",
              "</table>\n",
              "</div>"
            ],
            "text/plain": [
              "   order_id  ...  item_price\n",
              "0         1  ...      $2.39 \n",
              "1         1  ...      $3.39 \n",
              "2         1  ...      $3.39 \n",
              "3         1  ...      $2.39 \n",
              "4         2  ...     $16.98 \n",
              "5         3  ...     $10.98 \n",
              "6         3  ...      $1.69 \n",
              "7         4  ...     $11.75 \n",
              "8         4  ...      $9.25 \n",
              "9         5  ...      $9.25 \n",
              "\n",
              "[10 rows x 5 columns]"
            ]
          },
          "metadata": {
            "tags": []
          },
          "execution_count": 46
        }
      ]
    },
    {
      "cell_type": "markdown",
      "metadata": {
        "id": "oF47LH-FfqS3",
        "colab_type": "text"
      },
      "source": [
        "### Step 5. What is the number of observations in the dataset?"
      ]
    },
    {
      "cell_type": "code",
      "metadata": {
        "id": "WLmbMNWxfqS4",
        "colab_type": "code",
        "colab": {
          "base_uri": "https://localhost:8080/",
          "height": 35
        },
        "outputId": "f58091f0-12b8-46bd-9992-66f4d9759647"
      },
      "source": [
        "# Solution 1\n",
        "len(chipo)\n",
        "\n"
      ],
      "execution_count": 47,
      "outputs": [
        {
          "output_type": "execute_result",
          "data": {
            "text/plain": [
              "4622"
            ]
          },
          "metadata": {
            "tags": []
          },
          "execution_count": 47
        }
      ]
    },
    {
      "cell_type": "code",
      "metadata": {
        "id": "OsBOZ9qffqS8",
        "colab_type": "code",
        "colab": {
          "base_uri": "https://localhost:8080/",
          "height": 35
        },
        "outputId": "6b5a8610-deec-4416-f08f-016e867b5ca1"
      },
      "source": [
        "# Solution 2\n",
        "chipo.shape[0]\n"
      ],
      "execution_count": 48,
      "outputs": [
        {
          "output_type": "execute_result",
          "data": {
            "text/plain": [
              "4622"
            ]
          },
          "metadata": {
            "tags": []
          },
          "execution_count": 48
        }
      ]
    },
    {
      "cell_type": "markdown",
      "metadata": {
        "id": "eUswNAbOfqTA",
        "colab_type": "text"
      },
      "source": [
        "### Step 6. What is the number of columns in the dataset?"
      ]
    },
    {
      "cell_type": "code",
      "metadata": {
        "id": "frLF0GhKfqTB",
        "colab_type": "code",
        "colab": {
          "base_uri": "https://localhost:8080/",
          "height": 35
        },
        "outputId": "6bd3a87e-8ab5-449d-e0fd-5560f6497aff"
      },
      "source": [
        "chipo.shape[1]"
      ],
      "execution_count": 49,
      "outputs": [
        {
          "output_type": "execute_result",
          "data": {
            "text/plain": [
              "5"
            ]
          },
          "metadata": {
            "tags": []
          },
          "execution_count": 49
        }
      ]
    },
    {
      "cell_type": "markdown",
      "metadata": {
        "id": "x5wfqsI4fqTF",
        "colab_type": "text"
      },
      "source": [
        "### Step 7. Print the name of all the columns."
      ]
    },
    {
      "cell_type": "code",
      "metadata": {
        "id": "x6I-6xaXfqTG",
        "colab_type": "code",
        "colab": {
          "base_uri": "https://localhost:8080/",
          "height": 72
        },
        "outputId": "e62c7523-eb55-4e3d-930a-998dfb733188"
      },
      "source": [
        "chipo.columns"
      ],
      "execution_count": 50,
      "outputs": [
        {
          "output_type": "execute_result",
          "data": {
            "text/plain": [
              "Index([u'order_id', u'quantity', u'item_name', u'choice_description',\n",
              "       u'item_price'],\n",
              "      dtype='object')"
            ]
          },
          "metadata": {
            "tags": []
          },
          "execution_count": 50
        }
      ]
    },
    {
      "cell_type": "markdown",
      "metadata": {
        "id": "bYgPlzaZfqTK",
        "colab_type": "text"
      },
      "source": [
        "### Step 8. How is the dataset indexed?"
      ]
    },
    {
      "cell_type": "code",
      "metadata": {
        "id": "_2gI4_ynfqTO",
        "colab_type": "code",
        "colab": {
          "base_uri": "https://localhost:8080/",
          "height": 35
        },
        "outputId": "6e770d4d-0d2c-4153-d068-bc19ef96d6d9"
      },
      "source": [
        "chipo.index"
      ],
      "execution_count": 51,
      "outputs": [
        {
          "output_type": "execute_result",
          "data": {
            "text/plain": [
              "RangeIndex(start=0, stop=4622, step=1)"
            ]
          },
          "metadata": {
            "tags": []
          },
          "execution_count": 51
        }
      ]
    },
    {
      "cell_type": "markdown",
      "metadata": {
        "id": "cHUyCUUsfqTR",
        "colab_type": "text"
      },
      "source": [
        "### Step 9. Which was the most-ordered item? "
      ]
    },
    {
      "cell_type": "code",
      "metadata": {
        "id": "qZ5DXSbxfqTS",
        "colab_type": "code",
        "colab": {
          "base_uri": "https://localhost:8080/",
          "height": 108
        },
        "outputId": "92997471-5425-4823-84a3-2038e5b273bf"
      },
      "source": [
        "chipo[[\"item_name\", \"quantity\"]].groupby(by=\"item_name\").agg(\"sum\").sort_values(by=\"quantity\", ascending = False).head(1)"
      ],
      "execution_count": 52,
      "outputs": [
        {
          "output_type": "execute_result",
          "data": {
            "text/html": [
              "<div>\n",
              "<style scoped>\n",
              "    .dataframe tbody tr th:only-of-type {\n",
              "        vertical-align: middle;\n",
              "    }\n",
              "\n",
              "    .dataframe tbody tr th {\n",
              "        vertical-align: top;\n",
              "    }\n",
              "\n",
              "    .dataframe thead th {\n",
              "        text-align: right;\n",
              "    }\n",
              "</style>\n",
              "<table border=\"1\" class=\"dataframe\">\n",
              "  <thead>\n",
              "    <tr style=\"text-align: right;\">\n",
              "      <th></th>\n",
              "      <th>quantity</th>\n",
              "    </tr>\n",
              "    <tr>\n",
              "      <th>item_name</th>\n",
              "      <th></th>\n",
              "    </tr>\n",
              "  </thead>\n",
              "  <tbody>\n",
              "    <tr>\n",
              "      <th>Chicken Bowl</th>\n",
              "      <td>761</td>\n",
              "    </tr>\n",
              "  </tbody>\n",
              "</table>\n",
              "</div>"
            ],
            "text/plain": [
              "              quantity\n",
              "item_name             \n",
              "Chicken Bowl       761"
            ]
          },
          "metadata": {
            "tags": []
          },
          "execution_count": 52
        }
      ]
    },
    {
      "cell_type": "markdown",
      "metadata": {
        "id": "6zlHJYm6fqTV",
        "colab_type": "text"
      },
      "source": [
        "### Step 10. For the most-ordered item, how many items were ordered?"
      ]
    },
    {
      "cell_type": "code",
      "metadata": {
        "id": "hRtEwxiGfqTV",
        "colab_type": "code",
        "colab": {
          "base_uri": "https://localhost:8080/",
          "height": 108
        },
        "outputId": "078b1af7-f702-453b-be14-b02361060a66"
      },
      "source": [
        "chipo[[\"item_name\", \"quantity\"]].groupby(by=\"item_name\").agg(\"sum\").sort_values(by=\"quantity\", ascending = False).head(1)"
      ],
      "execution_count": 53,
      "outputs": [
        {
          "output_type": "execute_result",
          "data": {
            "text/html": [
              "<div>\n",
              "<style scoped>\n",
              "    .dataframe tbody tr th:only-of-type {\n",
              "        vertical-align: middle;\n",
              "    }\n",
              "\n",
              "    .dataframe tbody tr th {\n",
              "        vertical-align: top;\n",
              "    }\n",
              "\n",
              "    .dataframe thead th {\n",
              "        text-align: right;\n",
              "    }\n",
              "</style>\n",
              "<table border=\"1\" class=\"dataframe\">\n",
              "  <thead>\n",
              "    <tr style=\"text-align: right;\">\n",
              "      <th></th>\n",
              "      <th>quantity</th>\n",
              "    </tr>\n",
              "    <tr>\n",
              "      <th>item_name</th>\n",
              "      <th></th>\n",
              "    </tr>\n",
              "  </thead>\n",
              "  <tbody>\n",
              "    <tr>\n",
              "      <th>Chicken Bowl</th>\n",
              "      <td>761</td>\n",
              "    </tr>\n",
              "  </tbody>\n",
              "</table>\n",
              "</div>"
            ],
            "text/plain": [
              "              quantity\n",
              "item_name             \n",
              "Chicken Bowl       761"
            ]
          },
          "metadata": {
            "tags": []
          },
          "execution_count": 53
        }
      ]
    },
    {
      "cell_type": "markdown",
      "metadata": {
        "id": "lE2dtrpAfqTZ",
        "colab_type": "text"
      },
      "source": [
        "### Step 11. What was the most ordered item in the choice_description column?"
      ]
    },
    {
      "cell_type": "code",
      "metadata": {
        "id": "42y7GB0-fqTb",
        "colab_type": "code",
        "colab": {
          "base_uri": "https://localhost:8080/",
          "height": 108
        },
        "outputId": "80c3c300-39eb-45c4-b4a5-e786b4191c77"
      },
      "source": [
        "chipo[[\"quantity\", \"choice_description\"]].groupby(by=\"choice_description\").agg(\"count\").sort_values(by=\"quantity\", ascending = False).head(1)"
      ],
      "execution_count": 54,
      "outputs": [
        {
          "output_type": "execute_result",
          "data": {
            "text/html": [
              "<div>\n",
              "<style scoped>\n",
              "    .dataframe tbody tr th:only-of-type {\n",
              "        vertical-align: middle;\n",
              "    }\n",
              "\n",
              "    .dataframe tbody tr th {\n",
              "        vertical-align: top;\n",
              "    }\n",
              "\n",
              "    .dataframe thead th {\n",
              "        text-align: right;\n",
              "    }\n",
              "</style>\n",
              "<table border=\"1\" class=\"dataframe\">\n",
              "  <thead>\n",
              "    <tr style=\"text-align: right;\">\n",
              "      <th></th>\n",
              "      <th>quantity</th>\n",
              "    </tr>\n",
              "    <tr>\n",
              "      <th>choice_description</th>\n",
              "      <th></th>\n",
              "    </tr>\n",
              "  </thead>\n",
              "  <tbody>\n",
              "    <tr>\n",
              "      <th>[Diet Coke]</th>\n",
              "      <td>134</td>\n",
              "    </tr>\n",
              "  </tbody>\n",
              "</table>\n",
              "</div>"
            ],
            "text/plain": [
              "                    quantity\n",
              "choice_description          \n",
              "[Diet Coke]              134"
            ]
          },
          "metadata": {
            "tags": []
          },
          "execution_count": 54
        }
      ]
    },
    {
      "cell_type": "markdown",
      "metadata": {
        "id": "oToKEx2LfqTe",
        "colab_type": "text"
      },
      "source": [
        "### Step 12. How many items were orderd in total?"
      ]
    },
    {
      "cell_type": "code",
      "metadata": {
        "id": "eY0bKR8DfqTf",
        "colab_type": "code",
        "colab": {
          "base_uri": "https://localhost:8080/",
          "height": 35
        },
        "outputId": "0652576c-4d2f-45d1-ce99-729e1beeb538"
      },
      "source": [
        "chipo[\"quantity\"].sum()"
      ],
      "execution_count": 55,
      "outputs": [
        {
          "output_type": "execute_result",
          "data": {
            "text/plain": [
              "4972"
            ]
          },
          "metadata": {
            "tags": []
          },
          "execution_count": 55
        }
      ]
    },
    {
      "cell_type": "markdown",
      "metadata": {
        "id": "2siuWKhKfqTi",
        "colab_type": "text"
      },
      "source": [
        "### Step 13. Turn the item price into a float"
      ]
    },
    {
      "cell_type": "markdown",
      "metadata": {
        "id": "MIIfFJrrfqTj",
        "colab_type": "text"
      },
      "source": [
        "#### Step 13.a. Check the item price type"
      ]
    },
    {
      "cell_type": "code",
      "metadata": {
        "id": "TsKzIw1cfqTk",
        "colab_type": "code",
        "colab": {
          "base_uri": "https://localhost:8080/",
          "height": 35
        },
        "outputId": "03efa0b0-6fdb-4c71-ce3b-80dc6350e338"
      },
      "source": [
        "chipo[\"item_price\"].dtype"
      ],
      "execution_count": 56,
      "outputs": [
        {
          "output_type": "execute_result",
          "data": {
            "text/plain": [
              "dtype('O')"
            ]
          },
          "metadata": {
            "tags": []
          },
          "execution_count": 56
        }
      ]
    },
    {
      "cell_type": "markdown",
      "metadata": {
        "id": "eh3TQ6J5fqTn",
        "colab_type": "text"
      },
      "source": [
        "#### Step 13.b. Create a lambda function and change the type of item price"
      ]
    },
    {
      "cell_type": "code",
      "metadata": {
        "id": "3i7tXZZ5fqTp",
        "colab_type": "code",
        "colab": {}
      },
      "source": [
        "def to_float(x):\n",
        "  x = float(x.replace(\"$\", \"\"))\n",
        "  return x"
      ],
      "execution_count": 0,
      "outputs": []
    },
    {
      "cell_type": "code",
      "metadata": {
        "id": "UQ6qR7HQlvKP",
        "colab_type": "code",
        "colab": {}
      },
      "source": [
        "chipo[\"item_price\"] = chipo[\"item_price\"].apply(lambda row: to_float(row))"
      ],
      "execution_count": 0,
      "outputs": []
    },
    {
      "cell_type": "markdown",
      "metadata": {
        "id": "RaOKiNNWfqTr",
        "colab_type": "text"
      },
      "source": [
        "#### Step 13.c. Check the item price type"
      ]
    },
    {
      "cell_type": "code",
      "metadata": {
        "id": "pP9RCUJefqTs",
        "colab_type": "code",
        "colab": {
          "base_uri": "https://localhost:8080/",
          "height": 35
        },
        "outputId": "ac600e79-07e2-4277-e7dc-f28e04fbcd24"
      },
      "source": [
        "chipo[\"item_price\"].dtype"
      ],
      "execution_count": 64,
      "outputs": [
        {
          "output_type": "execute_result",
          "data": {
            "text/plain": [
              "dtype('float64')"
            ]
          },
          "metadata": {
            "tags": []
          },
          "execution_count": 64
        }
      ]
    },
    {
      "cell_type": "markdown",
      "metadata": {
        "id": "-tPynT9ofqTv",
        "colab_type": "text"
      },
      "source": [
        "### Step 14. How much was the revenue for the period in the dataset?"
      ]
    },
    {
      "cell_type": "code",
      "metadata": {
        "id": "gIQQs5jAfqTx",
        "colab_type": "code",
        "colab": {
          "base_uri": "https://localhost:8080/",
          "height": 35
        },
        "outputId": "2a87347c-a0c6-47d5-eb09-d7e6bed5cef8"
      },
      "source": [
        "(chipo[\"item_price\"] * chipo[\"quantity\"]).sum()"
      ],
      "execution_count": 67,
      "outputs": [
        {
          "output_type": "execute_result",
          "data": {
            "text/plain": [
              "39237.02"
            ]
          },
          "metadata": {
            "tags": []
          },
          "execution_count": 67
        }
      ]
    },
    {
      "cell_type": "markdown",
      "metadata": {
        "id": "YFSjGGKofqTz",
        "colab_type": "text"
      },
      "source": [
        "### Step 15. How many orders were made in the period?"
      ]
    },
    {
      "cell_type": "code",
      "metadata": {
        "id": "tcbZ1T7TfqT0",
        "colab_type": "code",
        "colab": {
          "base_uri": "https://localhost:8080/",
          "height": 35
        },
        "outputId": "de19e9b8-a2f0-425f-9207-ee45f4400c42"
      },
      "source": [
        "chipo[\"order_id\"].nunique()"
      ],
      "execution_count": 32,
      "outputs": [
        {
          "output_type": "execute_result",
          "data": {
            "text/plain": [
              "1834"
            ]
          },
          "metadata": {
            "tags": []
          },
          "execution_count": 32
        }
      ]
    },
    {
      "cell_type": "markdown",
      "metadata": {
        "id": "q3adBUCffqT2",
        "colab_type": "text"
      },
      "source": [
        "### Step 16. What is the average revenue amount per order?"
      ]
    },
    {
      "cell_type": "code",
      "metadata": {
        "id": "vBatPlrQfqT3",
        "colab_type": "code",
        "colab": {
          "base_uri": "https://localhost:8080/",
          "height": 35
        },
        "outputId": "e31172a1-89ac-4a7a-cdf4-2fb3686baccd"
      },
      "source": [
        "# Solution 1\n",
        "(chipo[\"item_price\"] * chipo[\"quantity\"]).sum() / chipo[\"order_id\"].nunique()\n"
      ],
      "execution_count": 68,
      "outputs": [
        {
          "output_type": "execute_result",
          "data": {
            "text/plain": [
              "21.39423118865867"
            ]
          },
          "metadata": {
            "tags": []
          },
          "execution_count": 68
        }
      ]
    },
    {
      "cell_type": "code",
      "metadata": {
        "id": "ejhXDbW1fqT6",
        "colab_type": "code",
        "colab": {}
      },
      "source": [
        "# Solution 2\n",
        "\n"
      ],
      "execution_count": 0,
      "outputs": []
    },
    {
      "cell_type": "markdown",
      "metadata": {
        "id": "FzA0Wg5SfqT8",
        "colab_type": "text"
      },
      "source": [
        "### Step 17. How many different items are sold?"
      ]
    },
    {
      "cell_type": "code",
      "metadata": {
        "id": "Kzy2LOzhfqT9",
        "colab_type": "code",
        "colab": {
          "base_uri": "https://localhost:8080/",
          "height": 35
        },
        "outputId": "bb3e0152-b2a2-4552-bb0d-0b5453ed1c52"
      },
      "source": [
        "chipo[\"item_name\"].nunique()"
      ],
      "execution_count": 31,
      "outputs": [
        {
          "output_type": "execute_result",
          "data": {
            "text/plain": [
              "50"
            ]
          },
          "metadata": {
            "tags": []
          },
          "execution_count": 31
        }
      ]
    }
  ]
}